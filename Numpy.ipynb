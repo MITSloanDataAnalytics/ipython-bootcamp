{
 "metadata": {
  "name": ""
 },
 "nbformat": 3,
 "nbformat_minor": 0,
 "worksheets": [
  {
   "cells": [
    {
     "cell_type": "markdown",
     "metadata": {},
     "source": [
      "# Numpy introduction"
     ]
    },
    {
     "cell_type": "code",
     "collapsed": false,
     "input": [
      "%pylab inline"
     ],
     "language": "python",
     "metadata": {},
     "outputs": [
      {
       "output_type": "stream",
       "stream": "stdout",
       "text": [
        "Populating the interactive namespace from numpy and matplotlib\n"
       ]
      }
     ],
     "prompt_number": 1
    },
    {
     "cell_type": "markdown",
     "metadata": {},
     "source": [
      "Numpy is automatically imported to the top level namespace when you use %pylab\n",
      "\n",
      "Numpy's main workhorse are is the \"array\" data structure.  You can think of arrays as vectors or matrices."
     ]
    },
    {
     "cell_type": "code",
     "collapsed": false,
     "input": [
      "test = array(range(10))\n",
      "print(test)"
     ],
     "language": "python",
     "metadata": {},
     "outputs": [
      {
       "output_type": "stream",
       "stream": "stdout",
       "text": [
        "[0 1 2 3 4 5 6 7 8 9]\n"
       ]
      }
     ],
     "prompt_number": 2
    },
    {
     "cell_type": "markdown",
     "metadata": {},
     "source": [
      "Don't be confused by the fact that they output as python lists!  It's more like Matlab.  The main differences we care about are:\n",
      "\n",
      "* Arrays do mathematical operations in element-wise fashion (by default)\n",
      "* They're much faster (for computation)!"
     ]
    },
    {
     "cell_type": "code",
     "collapsed": false,
     "input": [
      "# example of elementwise operations\n",
      "\n",
      "print(test + 1)\n",
      "print(test * 2)\n",
      "print(sqrt(test))"
     ],
     "language": "python",
     "metadata": {},
     "outputs": [
      {
       "output_type": "stream",
       "stream": "stdout",
       "text": [
        "[ 1  2  3  4  5  6  7  8  9 10]\n",
        "[ 0  2  4  6  8 10 12 14 16 18]\n",
        "[ 0.          1.          1.41421356  1.73205081  2.          2.23606798\n",
        "  2.44948974  2.64575131  2.82842712  3.        ]\n"
       ]
      }
     ],
     "prompt_number": 4
    },
    {
     "cell_type": "markdown",
     "metadata": {},
     "source": [
      "That's most of what we want to cover!  The main thing to keep in mind is underneath the covers, Numpy is doing most of the hard work.\n",
      "\n",
      "## Matrix calculations example: Calculating an \"optimum\" stock portfolio\n",
      "\n",
      "But let's do a somewhat common example to showcase the power of numpy (and scipy)"
     ]
    },
    {
     "cell_type": "code",
     "collapsed": false,
     "input": [
      "\"\"\"Load all the data!\"\"\"\n",
      "import pandas as pd\n",
      "import pandas.io.data as web\n",
      "from datetime import datetime\n",
      "\n",
      "tickers = [\"AAPL\", \"GOOG\", \"MSFT\"]\n",
      "\n",
      "stocks = pd.DataFrame({'AAPL': web.DataReader('AAPL',  \"yahoo\", datetime(1970,1,1),\n",
      "                                              datetime(2013,10,1))['Adj Close'].resample('M', how='last')})\n",
      "print(stocks)\n",
      "\n",
      "# load everything into one nice dataframe\n",
      "for stock in tickers:\n",
      "    stocks[stock] = np.NaN\n",
      "    temp = web.DataReader(stock,  \"yahoo\", datetime(1970,1,1),\n",
      "                          datetime(2013,10,1))['Adj Close'].resample('M', how='last')\n",
      "    stocks[stock] = temp\n",
      "\n",
      "# put things into percent return\n",
      "for stock in tickers:\n",
      "    stocks[stock] = stocks[stock]/stocks[stock].shift(1) - 1.\n",
      "    \n",
      "# visualize!\n",
      "stocks.cumsum().plot()\n",
      "show()"
     ],
     "language": "python",
     "metadata": {},
     "outputs": [
      {
       "output_type": "stream",
       "stream": "stdout",
       "text": [
        "<class 'pandas.core.frame.DataFrame'>\n",
        "DatetimeIndex: 350 entries, 1984-09-30 00:00:00 to 2013-10-31 00:00:00\n",
        "Freq: M\n",
        "Data columns (total 1 columns):\n",
        "AAPL    350  non-null values\n",
        "dtypes: float64(1)\n"
       ]
      },
      {
       "metadata": {},
       "output_type": "display_data",
       "png": "[encoded data removed]",
       "text": [
        "<matplotlib.figure.Figure at 0x1068e0410>"
       ]
      }
     ],
     "prompt_number": 5
    },
    {
     "cell_type": "code",
     "collapsed": false,
     "input": [
      "# load things into numpy data types\n",
      "V = matrix(stocks.cov().values)  # covariance matrix\n",
      "R = matrix(stocks.mean().values).T  # expected returns\n",
      "\n",
      "ones_col = np.ones((3,1))\n",
      "ones_row = ones_col.T\n",
      "\n",
      "print(V)\n",
      "print()\n",
      "print(R)"
     ],
     "language": "python",
     "metadata": {},
     "outputs": [
      {
       "output_type": "stream",
       "stream": "stdout",
       "text": [
        "[[ 0.01798821  0.00597144  0.0060241 ]\n",
        " [ 0.00597144  0.01112027  0.00299114]\n",
        " [ 0.0060241   0.00299114  0.01150264]]\n",
        "()\n",
        "[[ 0.02412728]\n",
        " [ 0.02498674]\n",
        " [ 0.02419786]]\n"
       ]
      }
     ],
     "prompt_number": 6
    },
    {
     "cell_type": "code",
     "collapsed": false,
     "input": [
      "# And now let's calculte the optimum portfolio!\n",
      "# The optimum portfolio is just the inversion of the covariance matrix times the expected returns\n",
      "# and then \"normalized\" so that the weights sum to 1\n",
      "\n",
      "optimum_weights = multiply(((ones_col.T * V.I * R).I), (V.I * R) )\n",
      "\n",
      "print(optimum_weights)\n",
      "print(tickers)"
     ],
     "language": "python",
     "metadata": {},
     "outputs": [
      {
       "output_type": "stream",
       "stream": "stdout",
       "text": [
        "[[ 0.07735049]\n",
        " [ 0.48577473]\n",
        " [ 0.43687478]]\n",
        "['AAPL', 'GOOG', 'MSFT']\n"
       ]
      }
     ],
     "prompt_number": 8
    },
    {
     "cell_type": "markdown",
     "metadata": {},
     "source": [
      "## Scipy: another foundational package\n",
      "\n",
      "Another foundational package is scipy.  If you want to work with simulations and probabilities, scipy is a great place to start.  Let's show you how to pull some random variables"
     ]
    },
    {
     "cell_type": "code",
     "collapsed": false,
     "input": [
      "from scipy.stats import norm  # import a normal distribution\n",
      "from scipy.stats import chi2  # import a chi square distribution\n",
      "\n",
      "normal_rvs = norm(0, 1).rvs(1000)\n",
      "chi_rvs = chi2(10).rvs(1000)\n",
      "\n",
      "hist(chi_rvs, bins=20)\n",
      "show()"
     ],
     "language": "python",
     "metadata": {},
     "outputs": [
      {
       "metadata": {},
       "output_type": "pyout",
       "prompt_number": 12,
       "text": [
        "(array([  17.,   48.,   85.,  144.,  145.,  138.,  106.,   82.,   72.,\n",
        "         56.,   40.,   30.,   15.,    5.,    6.,    1.,    5.,    3.,\n",
        "          1.,    1.]),\n",
        " array([  1.36129869,   2.77380021,   4.18630174,   5.59880326,\n",
        "         7.01130478,   8.4238063 ,   9.83630782,  11.24880934,\n",
        "        12.66131086,  14.07381238,  15.4863139 ,  16.89881542,\n",
        "        18.31131694,  19.72381846,  21.13631999,  22.54882151,\n",
        "        23.96132303,  25.37382455,  26.78632607,  28.19882759,  29.61132911]),\n",
        " <a list of 20 Patch objects>)"
       ]
      },
      {
       "metadata": {},
       "output_type": "display_data",
       "png": "[encoded data removed]",
       "text": [
        "<matplotlib.figure.Figure at 0x1094d05d0>"
       ]
      }
     ],
     "prompt_number": 12
    }
   ],
   "metadata": {}
  }
 ]
}